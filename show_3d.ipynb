{
 "cells": [
  {
   "cell_type": "code",
   "execution_count": 4,
   "metadata": {},
   "outputs": [
    {
     "data": {
      "text/plain": [
       "<IPython.core.display.Javascript object>"
      ]
     },
     "execution_count": 0,
     "metadata": {},
     "output_type": "execute_result"
    },
    {
     "data": {
      "text/html": [
       "<div id='e409d494-64e6-4ae0-8e56-61ddf626d765'></div>"
      ],
      "text/plain": [
       "<div id='e409d494-64e6-4ae0-8e56-61ddf626d765'></div>"
      ]
     },
     "execution_count": 0,
     "metadata": {},
     "output_type": "execute_result"
    }
   ],
   "source": [
    "import matplotlib.pyplot as plt\n",
    "from mpl_toolkits import mplot3d\n",
    "import numpy as np\n",
    "import pickle\n",
    "import session\n",
    "%matplotlib notebook\n",
    "\n",
    "#Type in here\n",
    "filename = ''\n",
    "gaze_id = 0\n",
    "show_circle = False\n",
    "show_shifted_circle = False\n",
    "\n",
    "infile = open(filename, 'rb')\n",
    "sess = pickle.load(infile)\n",
    "infile.close()\n",
    "\n",
    "#Type in here\n",
    "show_what = sess.pupil_circle\n",
    "\n",
    "fig = plt.figure()\n",
    "ax = plt.axes(projection='3d')\n",
    "ax.axis('equal')\n",
    "print('long lat pupil_radius')\n",
    "print(sess.pupils[gaze_id])\n",
    "datas = show_what\n",
    "data = datas[gaze_id]\n",
    "ax.plot3D(data[:,0],data[:,1],data[:,2])\n",
    "ax.set_xlabel('X')\n",
    "ax.set_ylabel('Y')\n",
    "\n",
    "if show_circle:\n",
    "    # draw sphere\n",
    "    u, v = np.mgrid[0:2*np.pi:20j, 0:np.pi:10j]\n",
    "    x = np.cos(u)*np.sin(v)\n",
    "    y = np.sin(u)*np.sin(v)\n",
    "    z = np.cos(v)\n",
    "    ax.plot_wireframe(x, y, z, color=\"r\")\n",
    "    \n",
    "if show_shifted_circle:\n",
    "    # draw sphere\n",
    "    center = sess.eye.center\n",
    "    u, v = np.mgrid[0:2*np.pi:20j, 0:np.pi:10j]\n",
    "    x = np.cos(u)*np.sin(v) + center[0]\n",
    "    y = np.sin(u)*np.sin(v) + center[1]\n",
    "    z = np.cos(v) + center[2]\n",
    "    ax.plot_wireframe(x, y, z, color=\"r\")"
   ]
  },
  {
   "cell_type": "code",
   "execution_count": null,
   "metadata": {},
   "outputs": [],
   "source": []
  },
  {
   "cell_type": "code",
   "execution_count": null,
   "metadata": {},
   "outputs": [],
   "source": []
  }
 ],
 "metadata": {
  "kernelspec": {
   "display_name": "Python 3",
   "language": "python",
   "name": "python3"
  },
  "language_info": {
   "codemirror_mode": {
    "name": "ipython",
    "version": 3
   },
   "file_extension": ".py",
   "mimetype": "text/x-python",
   "name": "python",
   "nbconvert_exporter": "python",
   "pygments_lexer": "ipython3",
   "version": "3.7.2"
  }
 },
 "nbformat": 4,
 "nbformat_minor": 1
}
